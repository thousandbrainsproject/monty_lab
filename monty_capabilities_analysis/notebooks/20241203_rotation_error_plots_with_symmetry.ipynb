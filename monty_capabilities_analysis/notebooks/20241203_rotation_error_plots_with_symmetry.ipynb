{
 "cells": [
  {
   "cell_type": "markdown",
   "metadata": {},
   "source": [
    "# 2024-12-03 Rotation Error Plots with Symmetry\n",
    "\n",
    "**Unlike the previous notebook, this will take rotation_errors from eval_stats.csv (rather than the calculated rotation error between most_likely_rotation and primary_target_rotation).**\n",
    "Hence, it will not use functions from `scripts/analyze.py`, though the plotting code may be incorporated into `analyze.py` in the future.\n"
   ]
  },
  {
   "cell_type": "code",
   "execution_count": 1,
   "metadata": {},
   "outputs": [],
   "source": [
    "import os\n",
    "import pandas as pd\n",
    "import numpy as np\n",
    "import matplotlib.pyplot as plt\n",
    "import seaborn as sns"
   ]
  },
  {
   "cell_type": "code",
   "execution_count": 3,
   "metadata": {},
   "outputs": [
    {
     "data": {
      "text/html": [
       "<div>\n",
       "<style scoped>\n",
       "    .dataframe tbody tr th:only-of-type {\n",
       "        vertical-align: middle;\n",
       "    }\n",
       "\n",
       "    .dataframe tbody tr th {\n",
       "        vertical-align: top;\n",
       "    }\n",
       "\n",
       "    .dataframe thead th {\n",
       "        text-align: right;\n",
       "    }\n",
       "</style>\n",
       "<table border=\"1\" class=\"dataframe\">\n",
       "  <thead>\n",
       "    <tr style=\"text-align: right;\">\n",
       "      <th></th>\n",
       "      <th>mean</th>\n",
       "      <th>count</th>\n",
       "    </tr>\n",
       "    <tr>\n",
       "      <th>primary_performance</th>\n",
       "      <th></th>\n",
       "      <th></th>\n",
       "    </tr>\n",
       "  </thead>\n",
       "  <tbody>\n",
       "    <tr>\n",
       "      <th>confused</th>\n",
       "      <td>NaN</td>\n",
       "      <td>0</td>\n",
       "    </tr>\n",
       "    <tr>\n",
       "      <th>confused_mlh</th>\n",
       "      <td>NaN</td>\n",
       "      <td>0</td>\n",
       "    </tr>\n",
       "    <tr>\n",
       "      <th>correct</th>\n",
       "      <td>0.024523</td>\n",
       "      <td>983</td>\n",
       "    </tr>\n",
       "    <tr>\n",
       "      <th>correct_mlh</th>\n",
       "      <td>0.250931</td>\n",
       "      <td>75</td>\n",
       "    </tr>\n",
       "    <tr>\n",
       "      <th>no_match</th>\n",
       "      <td>NaN</td>\n",
       "      <td>0</td>\n",
       "    </tr>\n",
       "    <tr>\n",
       "      <th>patch_off_object</th>\n",
       "      <td>NaN</td>\n",
       "      <td>0</td>\n",
       "    </tr>\n",
       "  </tbody>\n",
       "</table>\n",
       "</div>"
      ],
      "text/plain": [
       "                         mean  count\n",
       "primary_performance                 \n",
       "confused                  NaN      0\n",
       "confused_mlh              NaN      0\n",
       "correct              0.024523    983\n",
       "correct_mlh          0.250931     75\n",
       "no_match                  NaN      0\n",
       "patch_off_object          NaN      0"
      ]
     },
     "metadata": {},
     "output_type": "display_data"
    }
   ],
   "source": [
    "experiment = \"dist_agent_1lm\"\n",
    "results_dir = os.path.expanduser(\n",
    "    f\"~/tbp/monty_lab/monty_capabilities_analysis/results/dmc/{experiment}\"\n",
    ")\n",
    "eval_stats_path = os.path.join(results_dir, \"eval_stats.csv\")\n",
    "eval_stats = pd.read_csv(eval_stats_path)\n",
    "\n",
    "# For rotation_error grouped by primary_performance, include NaN values\n",
    "rotation_error_by_primary_performance = eval_stats.groupby(\"primary_performance\")[\n",
    "    \"rotation_error\"\n",
    "].agg([\"mean\", \"count\"])\n",
    "# show results for average rotation error, and also number of NaN values\n",
    "\n",
    "display(rotation_error_by_primary_performance)\n"
   ]
  }
 ],
 "metadata": {
  "kernelspec": {
   "display_name": "monty_lab",
   "language": "python",
   "name": "python3"
  },
  "language_info": {
   "codemirror_mode": {
    "name": "ipython",
    "version": 3
   },
   "file_extension": ".py",
   "mimetype": "text/x-python",
   "name": "python",
   "nbconvert_exporter": "python",
   "pygments_lexer": "ipython3",
   "version": "3.8.19"
  }
 },
 "nbformat": 4,
 "nbformat_minor": 2
}
