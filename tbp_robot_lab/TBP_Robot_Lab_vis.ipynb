{
 "cells": [
  {
   "cell_type": "code",
   "execution_count": null,
   "id": "052ef5f4",
   "metadata": {},
   "outputs": [],
   "source": [
    "import os\n",
    "from tbp.monty.frameworks.utils.logging_utils import load_stats\n",
    "import matplotlib.pyplot as plt\n",
    "from tbp.monty.frameworks.utils.plot_utils import plot_graph\n",
    "import numpy as np\n",
    "from matplotlib.colors import hsv_to_rgb"
   ]
  },
  {
   "cell_type": "code",
   "execution_count": null,
   "id": "14da33ff-5a82-49a8-913c-67da99a130b9",
   "metadata": {},
   "outputs": [],
   "source": [
    "%matplotlib widget"
   ]
  },
  {
   "cell_type": "code",
   "execution_count": null,
   "id": "5a1d7258",
   "metadata": {},
   "outputs": [],
   "source": [
    "pretrain_path = os.path.expanduser(\"~/tbp/results/monty/pretrained_models/pretrained_ycb_v10/\")\n",
    "pretrained_dict = pretrain_path + \"surf_agent_1lm_tbp_robot_lab_obj/pretrained/\"\n",
    "\n",
    "log_path = os.path.expanduser(\"~/tbp/results/monty/projects/evidence_eval_runs/logs/\")\n",
    "exp_name = \"randrot_noise_surf_sim_on_scan_tbp_robot_lab_obj\"\n",
    "exp_path = log_path + exp_name\n",
    "\n",
    "train_stats, eval_stats, detailed_stats, lm_models = load_stats(exp_path,\n",
    "                                                                load_train=False, # doesn't load train csv\n",
    "                                                                load_eval=True, # loads eval_stats.csv\n",
    "                                                                load_detailed=False, # doesn't load .json\n",
    "                                                                load_models=True, # loads .pt models\n",
    "                                                                pretrained_dict=pretrained_dict,\n",
    "                                                               )\n"
   ]
  },
  {
   "cell_type": "code",
   "execution_count": null,
   "id": "272c9a18",
   "metadata": {},
   "outputs": [],
   "source": [
    "offset = 0.0\n",
    "hsv_feat_range = lm_models['pretrained'][0]['potted_meat_can']['patch'].feature_mapping['hsv']\n",
    "fig =plt.figure()\n",
    "ax = fig.add_subplot(1, 1, 1, projection=\"3d\")\n",
    "for object in lm_models['pretrained'][0].keys():\n",
    "    pos = np.array(lm_models['pretrained'][0][object]['patch'].pos)\n",
    "    hsv_colors = np.array(lm_models['pretrained'][0][object]['patch'].x[:,hsv_feat_range[0]:hsv_feat_range[1]])\n",
    "    rgb_colors = hsv_to_rgb(hsv_colors)\n",
    "    ax.scatter(pos[:, 1], pos[:, 0], pos[:, 2]+offset, c=rgb_colors,s=1)\n",
    "    offset += 0.09\n",
    "ax.set_aspect(\"equal\")\n",
    "ax.view_init(0, -90,90)\n",
    "ax.set_xticks([])\n",
    "ax.set_yticks([])\n",
    "# ax.set_zticks([])\n",
    "ax.set_zlabel('meters')\n",
    "plt.show()"
   ]
  },
  {
   "cell_type": "code",
   "execution_count": null,
   "id": "6790db14",
   "metadata": {},
   "outputs": [],
   "source": []
  }
 ],
 "metadata": {
  "kernelspec": {
   "display_name": "Python [conda env:tbp.monty]",
   "language": "python",
   "name": "conda-env-tbp.monty-py"
  },
  "language_info": {
   "codemirror_mode": {
    "name": "ipython",
    "version": 3
   },
   "file_extension": ".py",
   "mimetype": "text/x-python",
   "name": "python",
   "nbconvert_exporter": "python",
   "pygments_lexer": "ipython3",
   "version": "3.8.20"
  }
 },
 "nbformat": 4,
 "nbformat_minor": 5
}
